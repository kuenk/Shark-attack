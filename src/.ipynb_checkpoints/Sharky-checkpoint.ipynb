{
 "cells": [
  {
   "cell_type": "code",
   "execution_count": 1,
   "metadata": {},
   "outputs": [],
   "source": [
    "# librerias\n",
    "\n",
    "\n",
    "import pandas as pd\n",
    "pd.set_option('display.max_columns', None)\n",
    "import re\n",
    "import numpy as np\n",
    "\n",
    "import warnings\n",
    "warnings.filterwarnings('ignore')\n",
    "\n",
    "\n",
    "# para pintar\n",
    "import pylab as plt\n",
    "import seaborn as sns\n",
    "\n",
    "#para que salga el grafico\n",
    "%matplotlib inline"
   ]
  },
  {
   "cell_type": "code",
   "execution_count": 2,
   "metadata": {},
   "outputs": [],
   "source": [
    "tiburones_ori=pd.read_csv('attacks.csv', encoding = \"ISO-8859-1\")\n",
    "tiburones=tiburones_ori.copy()"
   ]
  },
  {
   "cell_type": "code",
   "execution_count": 3,
   "metadata": {},
   "outputs": [],
   "source": [
    "#tiburones.head()"
   ]
  },
  {
   "cell_type": "code",
   "execution_count": 4,
   "metadata": {},
   "outputs": [
    {
     "data": {
      "text/plain": [
       "(25723, 24)"
      ]
     },
     "execution_count": 4,
     "metadata": {},
     "output_type": "execute_result"
    }
   ],
   "source": [
    "tiburones.shape"
   ]
  },
  {
   "cell_type": "code",
   "execution_count": 5,
   "metadata": {},
   "outputs": [
    {
     "data": {
      "text/plain": [
       "Index(['Case Number', 'Date', 'Year', 'Type', 'Country', 'Area', 'Location',\n",
       "       'Activity', 'Name', 'Sex ', 'Age', 'Injury', 'Fatal (Y/N)', 'Time',\n",
       "       'Species ', 'Investigator or Source', 'pdf', 'href formula', 'href',\n",
       "       'Case Number.1', 'Case Number.2', 'original order', 'Unnamed: 22',\n",
       "       'Unnamed: 23'],\n",
       "      dtype='object')"
      ]
     },
     "execution_count": 5,
     "metadata": {},
     "output_type": "execute_result"
    }
   ],
   "source": [
    "tiburones.columns"
   ]
  },
  {
   "cell_type": "code",
   "execution_count": 6,
   "metadata": {},
   "outputs": [],
   "source": [
    "#tiburones.info()"
   ]
  },
  {
   "cell_type": "code",
   "execution_count": 7,
   "metadata": {},
   "outputs": [
    {
     "data": {
      "text/plain": [
       "Case Number               17021\n",
       "Date                      19421\n",
       "Year                      19423\n",
       "Type                      19425\n",
       "Country                   19471\n",
       "Area                      19876\n",
       "Location                  19961\n",
       "Activity                  19965\n",
       "Name                      19631\n",
       "Sex                       19986\n",
       "Age                       22252\n",
       "Injury                    19449\n",
       "Fatal (Y/N)               19960\n",
       "Time                      22775\n",
       "Species                   22259\n",
       "Investigator or Source    19438\n",
       "pdf                       19421\n",
       "href formula              19422\n",
       "href                      19421\n",
       "Case Number.1             19421\n",
       "Case Number.2             19421\n",
       "original order            19414\n",
       "Unnamed: 22               25722\n",
       "Unnamed: 23               25721\n",
       "dtype: int64"
      ]
     },
     "execution_count": 7,
     "metadata": {},
     "output_type": "execute_result"
    }
   ],
   "source": [
    "#tiburones.describe(include='all').T\n",
    "nan_cols=tiburones.isna().sum()  # serie con los valores nulos por columna\n",
    "\n",
    "nan_cols"
   ]
  },
  {
   "cell_type": "code",
   "execution_count": 8,
   "metadata": {},
   "outputs": [
    {
     "data": {
      "image/png": "[encoded data removed]",
      "text/plain": [
       "<Figure size 720x432 with 1 Axes>"
      ]
     },
     "metadata": {
      "needs_background": "light"
     },
     "output_type": "display_data"
    }
   ],
   "source": [
    "plt.figure(figsize=(10, 6))  # inicia la figura y establece tamaño\n",
    "\n",
    "sns.heatmap(tiburones.isna(),  # mapa de calor\n",
    "           yticklabels=False,\n",
    "           cmap='viridis',\n",
    "           cbar=False)\n",
    "\n",
    "plt.show()"
   ]
  },
  {
   "cell_type": "code",
   "execution_count": 9,
   "metadata": {},
   "outputs": [],
   "source": [
    "cols=['Unnamed: 22', 'Unnamed: 23']\n",
    "#Creamos un nuevo data set con la limpieza para mantener el data set de inicio\n",
    "tiburones1=tiburones\n",
    "tiburones1.drop(columns=cols, inplace=True)"
   ]
  },
  {
   "cell_type": "code",
   "execution_count": 10,
   "metadata": {},
   "outputs": [
    {
     "data": {
      "text/plain": [
       "(25723, 22)"
      ]
     },
     "execution_count": 10,
     "metadata": {},
     "output_type": "execute_result"
    }
   ],
   "source": [
    "tiburones1.shape "
   ]
  },
  {
   "cell_type": "code",
   "execution_count": 11,
   "metadata": {},
   "outputs": [
    {
     "data": {
      "text/plain": [
       "Case Number                                                       0000.0725\n",
       "Date                                                           Ca. 725 B.C.\n",
       "Year                                                                      0\n",
       "Type                                                           Sea Disaster\n",
       "Country                                                               ITALY\n",
       "Area                                                         Tyrrhenian Sea\n",
       "Location                  Krater found during excavations at Lacco Ameno...\n",
       "Activity                                                          Shipwreck\n",
       "Name                                                                  males\n",
       "Sex                                                                       M\n",
       "Age                                                                     NaN\n",
       "Injury                    Depicts shipwrecked sailors  attacked by a sha...\n",
       "Fatal (Y/N)                                                               Y\n",
       "Time                                                                    NaN\n",
       "Species                                                                 NaN\n",
       "Investigator or Source                  V.M. Coppleson (1958), p.262, et al\n",
       "pdf                                                          725BC-vase.pdf\n",
       "href formula              http://sharkattackfile.net/spreadsheets/pdf_di...\n",
       "href                      http://sharkattackfile.net/spreadsheets/pdf_di...\n",
       "Case Number.1                                                     0000.0725\n",
       "Case Number.2                                                     0000.0725\n",
       "original order                                                          123\n",
       "Name: 6180, dtype: object"
      ]
     },
     "execution_count": 11,
     "metadata": {},
     "output_type": "execute_result"
    }
   ],
   "source": [
    "tiburones1.iloc[6180]"
   ]
  },
  {
   "cell_type": "code",
   "execution_count": 12,
   "metadata": {},
   "outputs": [],
   "source": [
    "tiburones1.drop_duplicates(inplace=True)"
   ]
  },
  {
   "cell_type": "code",
   "execution_count": 13,
   "metadata": {},
   "outputs": [
    {
     "data": {
      "text/plain": [
       "(6312, 22)"
      ]
     },
     "execution_count": 13,
     "metadata": {},
     "output_type": "execute_result"
    }
   ],
   "source": [
    "tiburones1.shape"
   ]
  },
  {
   "cell_type": "code",
   "execution_count": 14,
   "metadata": {},
   "outputs": [],
   "source": [
    "nombres=['case_number', 'date', 'year', 'type', 'country', 'area', 'location',\n",
    "       'activity', 'name', 'sex', 'age', 'injury', 'fatal_Y_N', 'time',\n",
    "       'species', 'investigator_or_source', 'pdf', 'href_formula', 'href',\n",
    "       'case_number_1', 'case_number_2', 'original_order']\n",
    "tiburones1.columns=nombres"
   ]
  },
  {
   "cell_type": "code",
   "execution_count": 15,
   "metadata": {},
   "outputs": [],
   "source": [
    "tiburones2=tiburones1"
   ]
  },
  {
   "cell_type": "code",
   "execution_count": 16,
   "metadata": {},
   "outputs": [],
   "source": [
    "tiburones2.fillna({'name': 'desconocido','type':'desconocido', 'sex':'desconocido', 'activity':'desconocido'}, inplace=True)\n"
   ]
  },
  {
   "cell_type": "code",
   "execution_count": 17,
   "metadata": {
    "scrolled": false
   },
   "outputs": [
    {
     "data": {
      "image/png": "[encoded data removed]",
      "text/plain": [
       "<Figure size 720x432 with 1 Axes>"
      ]
     },
     "metadata": {
      "needs_background": "light"
     },
     "output_type": "display_data"
    }
   ],
   "source": [
    "plt.figure(figsize=(10, 6))  # inicia la figura y establece tamaño\n",
    "\n",
    "sns.heatmap(tiburones2.isna(),  # mapa de calor\n",
    "           yticklabels=False,\n",
    "           cmap='viridis',\n",
    "           cbar=False)\n",
    "\n",
    "plt.show()"
   ]
  },
  {
   "cell_type": "code",
   "execution_count": 18,
   "metadata": {},
   "outputs": [],
   "source": [
    "tiburones2['year'].fillna(0,inplace=True)\n",
    "tiburones2['year'] = tiburones2['year'].astype(int)"
   ]
  },
  {
   "cell_type": "code",
   "execution_count": 19,
   "metadata": {},
   "outputs": [],
   "source": [
    "tiburones2['year'] = tiburones2['year'].astype(str)\n",
    "tiburones2.fillna('desconocido',inplace=True)"
   ]
  },
  {
   "cell_type": "code",
   "execution_count": 20,
   "metadata": {},
   "outputs": [],
   "source": [
    "#Esto se puede hacer con una funcion que recoja 'e' y me devuelva el valor que sobreescribe. Esta función se llamaría en el metodo apply directamente\n",
    "anio=[]\n",
    "cont=0\n",
    "for e in tiburones2.year:\n",
    "    if e == '0':\n",
    "        anio.append(tiburones2.iloc[cont].date)\n",
    "    else:\n",
    "        anio.append(e)\n",
    "    cont+=1"
   ]
  },
  {
   "cell_type": "code",
   "execution_count": 21,
   "metadata": {},
   "outputs": [],
   "source": [
    "tiburones2['anio'] = anio"
   ]
  },
  {
   "cell_type": "code",
   "execution_count": 22,
   "metadata": {},
   "outputs": [],
   "source": [
    "tiburones2.drop('year', axis=1, inplace=True)"
   ]
  },
  {
   "cell_type": "code",
   "execution_count": 23,
   "metadata": {},
   "outputs": [],
   "source": [
    "tiburones3 = tiburones2"
   ]
  },
  {
   "cell_type": "code",
   "execution_count": 24,
   "metadata": {},
   "outputs": [],
   "source": [
    "#tiburones.info()"
   ]
  },
  {
   "cell_type": "code",
   "execution_count": 25,
   "metadata": {},
   "outputs": [],
   "source": [
    "tiburones3['case_number'].replace(['0'], 'desconocido', inplace=True)\n",
    "tiburones3['case_number'].replace(['xx'], 'desconocido', inplace=True)"
   ]
  },
  {
   "cell_type": "code",
   "execution_count": 26,
   "metadata": {},
   "outputs": [],
   "source": [
    "duplicados=[6302,6303,6304,6305,6306,6307,6308,6309]\n",
    "tiburones3.drop(index=duplicados, inplace=True)"
   ]
  },
  {
   "cell_type": "code",
   "execution_count": 27,
   "metadata": {
    "scrolled": false
   },
   "outputs": [],
   "source": [
    "pd.set_option('display.max_rows', None)\n",
    "#tiburones3[['case_number','anio','date']]\n",
    "#tiburones3"
   ]
  },
  {
   "cell_type": "code",
   "execution_count": 28,
   "metadata": {},
   "outputs": [],
   "source": [
    "sobrantes=[8702,25722,6272, 6271,6261,6180,6179,6178,6177]\n",
    "tiburones3.drop(index=sobrantes, inplace=True)"
   ]
  },
  {
   "cell_type": "code",
   "execution_count": 29,
   "metadata": {},
   "outputs": [],
   "source": [
    "tiburones3.drop(['case_number','date','case_number_1','case_number_2'], axis=1, inplace=True)"
   ]
  },
  {
   "cell_type": "code",
   "execution_count": 30,
   "metadata": {},
   "outputs": [],
   "source": [
    "tiburones4=tiburones3\n"
   ]
  },
  {
   "cell_type": "code",
   "execution_count": 31,
   "metadata": {},
   "outputs": [],
   "source": [
    "tiburones4.anio=tiburones4.anio.str.replace('Before','')\n",
    "tiburones4 = tiburones4[tiburones4.anio != 'No date']"
   ]
  },
  {
   "cell_type": "code",
   "execution_count": 32,
   "metadata": {},
   "outputs": [],
   "source": [
    "#tiburones4.iloc[6280]"
   ]
  },
  {
   "cell_type": "code",
   "execution_count": 33,
   "metadata": {},
   "outputs": [],
   "source": [
    "def patron(x):\n",
    "    if len(x)>4:\n",
    "        num=str(re.findall('\\d{4}', x))\n",
    "        return num[2:6]\n",
    "    else:\n",
    "        return x"
   ]
  },
  {
   "cell_type": "code",
   "execution_count": 34,
   "metadata": {},
   "outputs": [],
   "source": [
    "tiburones4['anio']=tiburones4.anio.apply(patron)"
   ]
  },
  {
   "cell_type": "code",
   "execution_count": 36,
   "metadata": {},
   "outputs": [],
   "source": [
    "#keyword='No Date'\n",
    "#select3=tiburones4[tiburones4.anio.str.contains(keyword, regex=True)]\n",
    "#select3.head()"
   ]
  },
  {
   "cell_type": "code",
   "execution_count": 38,
   "metadata": {},
   "outputs": [],
   "source": [
    "tiburones4['anio'].replace(['Reported 08-Jan-2017'], '2017', inplace=True)\n",
    "tiburones4['anio'].replace(['Reported 19-Aug-1836'], '2017', inplace=True)\n",
    "tiburones4['anio'] = tiburones4['anio'].astype(int)"
   ]
  },
  {
   "cell_type": "code",
   "execution_count": 204,
   "metadata": {},
   "outputs": [],
   "source": [
    "#tiburones4.shape\n",
    "tiburones5=tiburones4"
   ]
  },
  {
   "cell_type": "code",
   "execution_count": 205,
   "metadata": {},
   "outputs": [
    {
     "data": {
      "image/png": "[encoded data removed]",
      "text/plain": [
       "<Figure size 720x432 with 1 Axes>"
      ]
     },
     "metadata": {
      "needs_background": "light"
     },
     "output_type": "display_data"
    }
   ],
   "source": [
    "plt.figure(figsize=(10, 6))\n",
    "\n",
    "tiburones5.boxplot(column=['anio']);"
   ]
  },
  {
   "cell_type": "code",
   "execution_count": 206,
   "metadata": {},
   "outputs": [
    {
     "data": {
      "text/html": [
       "<div>\n",
       "<style scoped>\n",
       "    .dataframe tbody tr th:only-of-type {\n",
       "        vertical-align: middle;\n",
       "    }\n",
       "\n",
       "    .dataframe tbody tr th {\n",
       "        vertical-align: top;\n",
       "    }\n",
       "\n",
       "    .dataframe thead th {\n",
       "        text-align: right;\n",
       "    }\n",
       "</style>\n",
       "<table border=\"1\" class=\"dataframe\">\n",
       "  <thead>\n",
       "    <tr style=\"text-align: right;\">\n",
       "      <th></th>\n",
       "      <th>count</th>\n",
       "      <th>mean</th>\n",
       "      <th>std</th>\n",
       "      <th>min</th>\n",
       "      <th>25%</th>\n",
       "      <th>50%</th>\n",
       "      <th>75%</th>\n",
       "      <th>max</th>\n",
       "      <th>IQR</th>\n",
       "    </tr>\n",
       "  </thead>\n",
       "  <tbody>\n",
       "    <tr>\n",
       "      <td>anio</td>\n",
       "      <td>6209.0</td>\n",
       "      <td>1969.282815</td>\n",
       "      <td>42.354343</td>\n",
       "      <td>1829.0</td>\n",
       "      <td>1946.0</td>\n",
       "      <td>1979.0</td>\n",
       "      <td>2005.0</td>\n",
       "      <td>2018.0</td>\n",
       "      <td>59.0</td>\n",
       "    </tr>\n",
       "  </tbody>\n",
       "</table>\n",
       "</div>"
      ],
      "text/plain": [
       "       count         mean        std     min     25%     50%     75%     max  \\\n",
       "anio  6209.0  1969.282815  42.354343  1829.0  1946.0  1979.0  2005.0  2018.0   \n",
       "\n",
       "       IQR  \n",
       "anio  59.0  "
      ]
     },
     "execution_count": 206,
     "metadata": {},
     "output_type": "execute_result"
    }
   ],
   "source": [
    "stats=tiburones5.describe().T\n",
    "stats['IQR']=stats['75%']-stats['25%']\n",
    "stats.tail()"
   ]
  },
  {
   "cell_type": "code",
   "execution_count": 207,
   "metadata": {},
   "outputs": [],
   "source": [
    "outliers=pd.DataFrame(columns=stats.index)"
   ]
  },
  {
   "cell_type": "code",
   "execution_count": 208,
   "metadata": {},
   "outputs": [],
   "source": [
    "def get_outliers(stats: pd.DataFrame, threshold: float = 1.5) -> pd.DataFrame:\n",
    "    \n",
    "    \"\"\"\n",
    "    Esta funcion recibe un dataframe df.describe().T.\n",
    "    \n",
    "    Devuelve un dataframe.\n",
    "    \n",
    "    :param: stats, pd.DataFrame\n",
    "    :param: threshold, umbral del test de tukey\n",
    "    \n",
    "    :return: pd.DataFrame\n",
    "    \"\"\"\n",
    "    \n",
    "    outliers=pd.DataFrame(columns=stats.index)\n",
    "\n",
    "    for c in stats.index:\n",
    "\n",
    "        iqr=stats.at[c, 'IQR']\n",
    "\n",
    "        cutoff=threshold * iqr  # test tukey\n",
    "\n",
    "        lower=stats.at[c, '25%'] - cutoff\n",
    "\n",
    "        res=tiburones5[(tiburones5[c] < lower)].copy()\n",
    "\n",
    "        res['outliers']=c\n",
    "\n",
    "        outliers=outliers.append(res, sort=True)\n",
    "\n",
    "    \n",
    "    return outliers\n"
   ]
  },
  {
   "cell_type": "code",
   "execution_count": 209,
   "metadata": {},
   "outputs": [
    {
     "data": {
      "text/html": [
       "<div>\n",
       "<style scoped>\n",
       "    .dataframe tbody tr th:only-of-type {\n",
       "        vertical-align: middle;\n",
       "    }\n",
       "\n",
       "    .dataframe tbody tr th {\n",
       "        vertical-align: top;\n",
       "    }\n",
       "\n",
       "    .dataframe thead th {\n",
       "        text-align: right;\n",
       "    }\n",
       "</style>\n",
       "<table border=\"1\" class=\"dataframe\">\n",
       "  <thead>\n",
       "    <tr style=\"text-align: right;\">\n",
       "      <th></th>\n",
       "      <th>activity</th>\n",
       "      <th>age</th>\n",
       "      <th>anio</th>\n",
       "      <th>area</th>\n",
       "      <th>country</th>\n",
       "      <th>fatal_Y_N</th>\n",
       "      <th>href</th>\n",
       "      <th>href_formula</th>\n",
       "      <th>injury</th>\n",
       "      <th>investigator_or_source</th>\n",
       "      <th>location</th>\n",
       "      <th>name</th>\n",
       "      <th>original_order</th>\n",
       "      <th>outliers</th>\n",
       "      <th>pdf</th>\n",
       "      <th>sex</th>\n",
       "      <th>species</th>\n",
       "      <th>time</th>\n",
       "      <th>type</th>\n",
       "    </tr>\n",
       "  </thead>\n",
       "  <tbody>\n",
       "    <tr>\n",
       "      <td>6085</td>\n",
       "      <td>Fishing</td>\n",
       "      <td>desconocido</td>\n",
       "      <td>1832</td>\n",
       "      <td>New South Wales</td>\n",
       "      <td>AUSTRALIA</td>\n",
       "      <td>N</td>\n",
       "      <td>http://sharkattackfile.net/spreadsheets/pdf_di...</td>\n",
       "      <td>http://sharkattackfile.net/spreadsheets/pdf_di...</td>\n",
       "      <td>Leg severed</td>\n",
       "      <td>Sydney Herald, 6/11/1832</td>\n",
       "      <td>South Head, Sydney</td>\n",
       "      <td>Aboriginal female</td>\n",
       "      <td>218</td>\n",
       "      <td>anio</td>\n",
       "      <td>1832.06.04-AboriginalWoman.pdf</td>\n",
       "      <td>F</td>\n",
       "      <td>desconocido</td>\n",
       "      <td>desconocido</td>\n",
       "      <td>Unprovoked</td>\n",
       "    </tr>\n",
       "    <tr>\n",
       "      <td>6086</td>\n",
       "      <td>Bathing</td>\n",
       "      <td>desconocido</td>\n",
       "      <td>1832</td>\n",
       "      <td>New South Wales</td>\n",
       "      <td>AUSTRALIA</td>\n",
       "      <td>N</td>\n",
       "      <td>http://sharkattackfile.net/spreadsheets/pdf_di...</td>\n",
       "      <td>http://sharkattackfile.net/spreadsheets/pdf_di...</td>\n",
       "      <td>Laceration to leg</td>\n",
       "      <td>Sydney Herald, 1/23/1832</td>\n",
       "      <td>Sydney</td>\n",
       "      <td>male</td>\n",
       "      <td>217</td>\n",
       "      <td>anio</td>\n",
       "      <td>1832.01.23.R-Wilshire-slaughter-house.pdf</td>\n",
       "      <td>M</td>\n",
       "      <td>desconocido</td>\n",
       "      <td>desconocido</td>\n",
       "      <td>Unprovoked</td>\n",
       "    </tr>\n",
       "    <tr>\n",
       "      <td>6087</td>\n",
       "      <td>American schooner Orator capsized</td>\n",
       "      <td>desconocido</td>\n",
       "      <td>1831</td>\n",
       "      <td>CUBA</td>\n",
       "      <td>USA</td>\n",
       "      <td>Y</td>\n",
       "      <td>http://sharkattackfile.net/spreadsheets/pdf_di...</td>\n",
       "      <td>http://sharkattackfile.net/spreadsheets/pdf_di...</td>\n",
       "      <td>FATAL</td>\n",
       "      <td>New York Evening Post, 9/14/1831</td>\n",
       "      <td>Near Havana</td>\n",
       "      <td>crew x 2</td>\n",
       "      <td>216</td>\n",
       "      <td>anio</td>\n",
       "      <td>1831.08.24-Orator.pdf</td>\n",
       "      <td>M</td>\n",
       "      <td>desconocido</td>\n",
       "      <td>desconocido</td>\n",
       "      <td>Boat</td>\n",
       "    </tr>\n",
       "    <tr>\n",
       "      <td>6088</td>\n",
       "      <td>Boat capsized, clinging to line</td>\n",
       "      <td>desconocido</td>\n",
       "      <td>1831</td>\n",
       "      <td>Tasmania</td>\n",
       "      <td>AUSTRALIA</td>\n",
       "      <td>desconocido</td>\n",
       "      <td>http://sharkattackfile.net/spreadsheets/pdf_di...</td>\n",
       "      <td>http://sharkattackfile.net/spreadsheets/pdf_di...</td>\n",
       "      <td>Drowned, no shark involvement</td>\n",
       "      <td>C. Black, GSAF; Sydney Gazette, 1/22/1831</td>\n",
       "      <td>Hobart</td>\n",
       "      <td>Robert Dudlow</td>\n",
       "      <td>215</td>\n",
       "      <td>anio</td>\n",
       "      <td>1831.01.22.R-Dudlow.pdf</td>\n",
       "      <td>M</td>\n",
       "      <td>Invalid</td>\n",
       "      <td>desconocido</td>\n",
       "      <td>Invalid</td>\n",
       "    </tr>\n",
       "    <tr>\n",
       "      <td>6089</td>\n",
       "      <td>Fishing from dory, shark upset boat &amp; he fell ...</td>\n",
       "      <td>52</td>\n",
       "      <td>1830</td>\n",
       "      <td>Massachusetts</td>\n",
       "      <td>USA</td>\n",
       "      <td>Y</td>\n",
       "      <td>http://sharkattackfile.net/spreadsheets/pdf_di...</td>\n",
       "      <td>http://sharkattackfile.net/spreadsheets/pdf_di...</td>\n",
       "      <td>FATAL</td>\n",
       "      <td>Huron Sun, 8/3/1830</td>\n",
       "      <td>Swampscott, Essex County</td>\n",
       "      <td>Joseph Blaney</td>\n",
       "      <td>214</td>\n",
       "      <td>anio</td>\n",
       "      <td>1830.07.26-JosephBlaney.pdf</td>\n",
       "      <td>M</td>\n",
       "      <td>desconocido</td>\n",
       "      <td>desconocido</td>\n",
       "      <td>Unprovoked</td>\n",
       "    </tr>\n",
       "    <tr>\n",
       "      <td>6090</td>\n",
       "      <td>Washing a dog</td>\n",
       "      <td>desconocido</td>\n",
       "      <td>1830</td>\n",
       "      <td>Tamil Nadu</td>\n",
       "      <td>INDIA</td>\n",
       "      <td>Y</td>\n",
       "      <td>http://sharkattackfile.net/spreadsheets/pdf_di...</td>\n",
       "      <td>http://sharkattackfile.net/spreadsheets/pdf_di...</td>\n",
       "      <td>FATAL</td>\n",
       "      <td>Madras Courier, 7/2/1830</td>\n",
       "      <td>Madras</td>\n",
       "      <td>male</td>\n",
       "      <td>213</td>\n",
       "      <td>anio</td>\n",
       "      <td>1830.07.02.R-Madras.pdf</td>\n",
       "      <td>M</td>\n",
       "      <td>desconocido</td>\n",
       "      <td>Evening</td>\n",
       "      <td>Unprovoked</td>\n",
       "    </tr>\n",
       "    <tr>\n",
       "      <td>6091</td>\n",
       "      <td>Bathing</td>\n",
       "      <td>desconocido</td>\n",
       "      <td>1830</td>\n",
       "      <td>Tamil Nadu</td>\n",
       "      <td>INDIA</td>\n",
       "      <td>Y</td>\n",
       "      <td>http://sharkattackfile.net/spreadsheets/pdf_di...</td>\n",
       "      <td>http://sharkattackfile.net/spreadsheets/pdf_di...</td>\n",
       "      <td>FATAL</td>\n",
       "      <td>Madras Gazette, 5/1/1830</td>\n",
       "      <td>St. Thomé</td>\n",
       "      <td>Ensign Bromwick</td>\n",
       "      <td>212</td>\n",
       "      <td>anio</td>\n",
       "      <td>1830.04.30-Bromwick.pdf</td>\n",
       "      <td>M</td>\n",
       "      <td>desconocido</td>\n",
       "      <td>17h00-18h00</td>\n",
       "      <td>Unprovoked</td>\n",
       "    </tr>\n",
       "    <tr>\n",
       "      <td>6092</td>\n",
       "      <td>desconocido</td>\n",
       "      <td>desconocido</td>\n",
       "      <td>1830</td>\n",
       "      <td>desconocido</td>\n",
       "      <td>desconocido</td>\n",
       "      <td>Y</td>\n",
       "      <td>http://sharkattackfile.net/spreadsheets/pdf_di...</td>\n",
       "      <td>http://sharkattackfile.net/spreadsheets/pdf_di...</td>\n",
       "      <td>FATAL</td>\n",
       "      <td>The Torchlight &amp; Public Advertiser, 4/22/1830</td>\n",
       "      <td>desconocido</td>\n",
       "      <td>Jose</td>\n",
       "      <td>211</td>\n",
       "      <td>anio</td>\n",
       "      <td>1830.04.22.R-Jose.pdf</td>\n",
       "      <td>M</td>\n",
       "      <td>desconocido</td>\n",
       "      <td>Night</td>\n",
       "      <td>Unprovoked</td>\n",
       "    </tr>\n",
       "    <tr>\n",
       "      <td>6093</td>\n",
       "      <td>desconocido</td>\n",
       "      <td>desconocido</td>\n",
       "      <td>1829</td>\n",
       "      <td>Western Area</td>\n",
       "      <td>SIERRA LEONE</td>\n",
       "      <td>N</td>\n",
       "      <td>http://sharkattackfile.net/spreadsheets/pdf_di...</td>\n",
       "      <td>http://sharkattackfile.net/spreadsheets/pdf_di...</td>\n",
       "      <td>Both hands severed</td>\n",
       "      <td>Hagerstown Mail, 7/3/1829</td>\n",
       "      <td>desconocido</td>\n",
       "      <td>Thomas Cargill</td>\n",
       "      <td>210</td>\n",
       "      <td>anio</td>\n",
       "      <td>1829.07.03.R-Cargill.pdf</td>\n",
       "      <td>M</td>\n",
       "      <td>desconocido</td>\n",
       "      <td>desconocido</td>\n",
       "      <td>Unprovoked</td>\n",
       "    </tr>\n",
       "    <tr>\n",
       "      <td>6094</td>\n",
       "      <td>Fell overboard from the ship Gem</td>\n",
       "      <td>desconocido</td>\n",
       "      <td>1829</td>\n",
       "      <td>New Jersey</td>\n",
       "      <td>USA</td>\n",
       "      <td>Y</td>\n",
       "      <td>http://sharkattackfile.net/spreadsheets/pdf_di...</td>\n",
       "      <td>http://sharkattackfile.net/spreadsheets/pdf_di...</td>\n",
       "      <td>FATAL</td>\n",
       "      <td>The Evening Post, 6/12/1829</td>\n",
       "      <td>Sandy Hook Bay, Highlands, Monmouth County</td>\n",
       "      <td>male</td>\n",
       "      <td>209</td>\n",
       "      <td>anio</td>\n",
       "      <td>1829.06.10-Gem.pdf</td>\n",
       "      <td>M</td>\n",
       "      <td>desconocido</td>\n",
       "      <td>Morning</td>\n",
       "      <td>Unprovoked</td>\n",
       "    </tr>\n",
       "    <tr>\n",
       "      <td>6095</td>\n",
       "      <td>Wreck of the schooner Driver</td>\n",
       "      <td>desconocido</td>\n",
       "      <td>1829</td>\n",
       "      <td>desconocido</td>\n",
       "      <td>CARIBBEAN SEA</td>\n",
       "      <td>Y</td>\n",
       "      <td>http://sharkattackfile.net/spreadsheets/pdf_di...</td>\n",
       "      <td>http://sharkattackfile.net/spreadsheets/pdf_di...</td>\n",
       "      <td>FATAL x 2</td>\n",
       "      <td>The Times, 12/14/1829</td>\n",
       "      <td>Between St. Bart's and Saba</td>\n",
       "      <td>Ned &amp; Pawn</td>\n",
       "      <td>208</td>\n",
       "      <td>anio</td>\n",
       "      <td>1829.00.00-Ned-Pawn.pdf</td>\n",
       "      <td>M</td>\n",
       "      <td>desconocido</td>\n",
       "      <td>desconocido</td>\n",
       "      <td>Sea Disaster</td>\n",
       "    </tr>\n",
       "  </tbody>\n",
       "</table>\n",
       "</div>"
      ],
      "text/plain": [
       "                                               activity          age  anio  \\\n",
       "6085                                            Fishing  desconocido  1832   \n",
       "6086                                            Bathing  desconocido  1832   \n",
       "6087                American schooner Orator capsized    desconocido  1831   \n",
       "6088                    Boat capsized, clinging to line  desconocido  1831   \n",
       "6089  Fishing from dory, shark upset boat & he fell ...           52  1830   \n",
       "6090                                      Washing a dog  desconocido  1830   \n",
       "6091                                            Bathing  desconocido  1830   \n",
       "6092                                        desconocido  desconocido  1830   \n",
       "6093                                        desconocido  desconocido  1829   \n",
       "6094                   Fell overboard from the ship Gem  desconocido  1829   \n",
       "6095                       Wreck of the schooner Driver  desconocido  1829   \n",
       "\n",
       "                 area        country    fatal_Y_N  \\\n",
       "6085  New South Wales      AUSTRALIA            N   \n",
       "6086  New South Wales      AUSTRALIA            N   \n",
       "6087             CUBA            USA            Y   \n",
       "6088         Tasmania      AUSTRALIA  desconocido   \n",
       "6089    Massachusetts            USA            Y   \n",
       "6090       Tamil Nadu          INDIA            Y   \n",
       "6091       Tamil Nadu          INDIA            Y   \n",
       "6092      desconocido    desconocido            Y   \n",
       "6093     Western Area   SIERRA LEONE            N   \n",
       "6094       New Jersey            USA            Y   \n",
       "6095      desconocido  CARIBBEAN SEA            Y   \n",
       "\n",
       "                                                   href  \\\n",
       "6085  http://sharkattackfile.net/spreadsheets/pdf_di...   \n",
       "6086  http://sharkattackfile.net/spreadsheets/pdf_di...   \n",
       "6087  http://sharkattackfile.net/spreadsheets/pdf_di...   \n",
       "6088  http://sharkattackfile.net/spreadsheets/pdf_di...   \n",
       "6089  http://sharkattackfile.net/spreadsheets/pdf_di...   \n",
       "6090  http://sharkattackfile.net/spreadsheets/pdf_di...   \n",
       "6091  http://sharkattackfile.net/spreadsheets/pdf_di...   \n",
       "6092  http://sharkattackfile.net/spreadsheets/pdf_di...   \n",
       "6093  http://sharkattackfile.net/spreadsheets/pdf_di...   \n",
       "6094  http://sharkattackfile.net/spreadsheets/pdf_di...   \n",
       "6095  http://sharkattackfile.net/spreadsheets/pdf_di...   \n",
       "\n",
       "                                           href_formula  \\\n",
       "6085  http://sharkattackfile.net/spreadsheets/pdf_di...   \n",
       "6086  http://sharkattackfile.net/spreadsheets/pdf_di...   \n",
       "6087  http://sharkattackfile.net/spreadsheets/pdf_di...   \n",
       "6088  http://sharkattackfile.net/spreadsheets/pdf_di...   \n",
       "6089  http://sharkattackfile.net/spreadsheets/pdf_di...   \n",
       "6090  http://sharkattackfile.net/spreadsheets/pdf_di...   \n",
       "6091  http://sharkattackfile.net/spreadsheets/pdf_di...   \n",
       "6092  http://sharkattackfile.net/spreadsheets/pdf_di...   \n",
       "6093  http://sharkattackfile.net/spreadsheets/pdf_di...   \n",
       "6094  http://sharkattackfile.net/spreadsheets/pdf_di...   \n",
       "6095  http://sharkattackfile.net/spreadsheets/pdf_di...   \n",
       "\n",
       "                             injury  \\\n",
       "6085                    Leg severed   \n",
       "6086              Laceration to leg   \n",
       "6087                          FATAL   \n",
       "6088  Drowned, no shark involvement   \n",
       "6089                          FATAL   \n",
       "6090                          FATAL   \n",
       "6091                          FATAL   \n",
       "6092                          FATAL   \n",
       "6093             Both hands severed   \n",
       "6094                          FATAL   \n",
       "6095                      FATAL x 2   \n",
       "\n",
       "                             investigator_or_source  \\\n",
       "6085                       Sydney Herald, 6/11/1832   \n",
       "6086                       Sydney Herald, 1/23/1832   \n",
       "6087               New York Evening Post, 9/14/1831   \n",
       "6088      C. Black, GSAF; Sydney Gazette, 1/22/1831   \n",
       "6089                            Huron Sun, 8/3/1830   \n",
       "6090                       Madras Courier, 7/2/1830   \n",
       "6091                       Madras Gazette, 5/1/1830   \n",
       "6092  The Torchlight & Public Advertiser, 4/22/1830   \n",
       "6093                      Hagerstown Mail, 7/3/1829   \n",
       "6094                    The Evening Post, 6/12/1829   \n",
       "6095                          The Times, 12/14/1829   \n",
       "\n",
       "                                        location               name  \\\n",
       "6085                          South Head, Sydney  Aboriginal female   \n",
       "6086                                      Sydney               male   \n",
       "6087                                 Near Havana           crew x 2   \n",
       "6088                                      Hobart      Robert Dudlow   \n",
       "6089                    Swampscott, Essex County      Joseph Blaney   \n",
       "6090                                      Madras               male   \n",
       "6091                                   St. Thomé    Ensign Bromwick   \n",
       "6092                                 desconocido               Jose   \n",
       "6093                                 desconocido     Thomas Cargill   \n",
       "6094  Sandy Hook Bay, Highlands, Monmouth County               male   \n",
       "6095                 Between St. Bart's and Saba         Ned & Pawn   \n",
       "\n",
       "     original_order outliers                                        pdf sex  \\\n",
       "6085            218     anio             1832.06.04-AboriginalWoman.pdf   F   \n",
       "6086            217     anio  1832.01.23.R-Wilshire-slaughter-house.pdf   M   \n",
       "6087            216     anio                      1831.08.24-Orator.pdf   M   \n",
       "6088            215     anio                    1831.01.22.R-Dudlow.pdf   M   \n",
       "6089            214     anio                1830.07.26-JosephBlaney.pdf   M   \n",
       "6090            213     anio                    1830.07.02.R-Madras.pdf   M   \n",
       "6091            212     anio                    1830.04.30-Bromwick.pdf   M   \n",
       "6092            211     anio                      1830.04.22.R-Jose.pdf   M   \n",
       "6093            210     anio                   1829.07.03.R-Cargill.pdf   M   \n",
       "6094            209     anio                         1829.06.10-Gem.pdf   M   \n",
       "6095            208     anio                    1829.00.00-Ned-Pawn.pdf   M   \n",
       "\n",
       "          species         time          type  \n",
       "6085  desconocido  desconocido    Unprovoked  \n",
       "6086  desconocido  desconocido    Unprovoked  \n",
       "6087  desconocido  desconocido          Boat  \n",
       "6088      Invalid  desconocido       Invalid  \n",
       "6089  desconocido  desconocido    Unprovoked  \n",
       "6090  desconocido      Evening    Unprovoked  \n",
       "6091  desconocido  17h00-18h00    Unprovoked  \n",
       "6092  desconocido        Night    Unprovoked  \n",
       "6093  desconocido  desconocido    Unprovoked  \n",
       "6094  desconocido      Morning    Unprovoked  \n",
       "6095  desconocido  desconocido  Sea Disaster  "
      ]
     },
     "execution_count": 209,
     "metadata": {},
     "output_type": "execute_result"
    }
   ],
   "source": [
    "get_outliers(stats, 1.9)"
   ]
  },
  {
   "cell_type": "code",
   "execution_count": 210,
   "metadata": {},
   "outputs": [],
   "source": [
    "outliers.index\n",
    "tiburones5.drop(index=outliers.index, inplace=True)\n"
   ]
  },
  {
   "cell_type": "code",
   "execution_count": 211,
   "metadata": {},
   "outputs": [
    {
     "data": {
      "image/png": "[encoded data removed]",
      "text/plain": [
       "<Figure size 720x432 with 1 Axes>"
      ]
     },
     "metadata": {
      "needs_background": "light"
     },
     "output_type": "display_data"
    }
   ],
   "source": [
    "plt.figure(figsize=(10, 6))\n",
    "\n",
    "tiburones5.anio.hist(bins=100)\n",
    "\n",
    "plt.xlabel('Year');"
   ]
  },
  {
   "cell_type": "code",
   "execution_count": 213,
   "metadata": {},
   "outputs": [
    {
     "data": {
      "text/plain": [
       "(6209, 18)"
      ]
     },
     "execution_count": 213,
     "metadata": {},
     "output_type": "execute_result"
    }
   ],
   "source": [
    "tiburones6=tiburones5\n",
    "tiburones6.shape"
   ]
  },
  {
   "cell_type": "code",
   "execution_count": 216,
   "metadata": {},
   "outputs": [],
   "source": [
    "cols=tiburones6.columns.tolist()\n",
    "cols=['anio','country','area','location','species','injury','fatal_Y_N','name','sex','age','type','activity','time','investigator_or_source','original_order','pdf','href_formula','href']\n",
    "tiburones6=tiburones6.reindex(columns=cols)"
   ]
  },
  {
   "cell_type": "raw",
   "metadata": {},
   "source": [
    "tiburones5=tiburones5.reindex(columns=cols)"
   ]
  },
  {
   "cell_type": "code",
   "execution_count": 197,
   "metadata": {},
   "outputs": [
    {
     "data": {
      "text/html": [
       "<div>\n",
       "<style scoped>\n",
       "    .dataframe tbody tr th:only-of-type {\n",
       "        vertical-align: middle;\n",
       "    }\n",
       "\n",
       "    .dataframe tbody tr th {\n",
       "        vertical-align: top;\n",
       "    }\n",
       "\n",
       "    .dataframe thead th {\n",
       "        text-align: right;\n",
       "    }\n",
       "</style>\n",
       "<table border=\"1\" class=\"dataframe\">\n",
       "  <thead>\n",
       "    <tr style=\"text-align: right;\">\n",
       "      <th></th>\n",
       "      <th>anio</th>\n",
       "      <th>type</th>\n",
       "      <th>country</th>\n",
       "      <th>area</th>\n",
       "      <th>location</th>\n",
       "      <th>activity</th>\n",
       "      <th>name</th>\n",
       "      <th>sex</th>\n",
       "      <th>age</th>\n",
       "      <th>injury</th>\n",
       "      <th>fatal_Y_N</th>\n",
       "      <th>time</th>\n",
       "      <th>species</th>\n",
       "      <th>investigator_or_source</th>\n",
       "      <th>pdf</th>\n",
       "      <th>href_formula</th>\n",
       "      <th>href</th>\n",
       "      <th>original_order</th>\n",
       "    </tr>\n",
       "  </thead>\n",
       "  <tbody>\n",
       "    <tr>\n",
       "      <td>0</td>\n",
       "      <td>2018</td>\n",
       "      <td>Boating</td>\n",
       "      <td>USA</td>\n",
       "      <td>California</td>\n",
       "      <td>Oceanside, San Diego County</td>\n",
       "      <td>Paddling</td>\n",
       "      <td>Julie Wolfe</td>\n",
       "      <td>F</td>\n",
       "      <td>57</td>\n",
       "      <td>No injury to occupant, outrigger canoe and pad...</td>\n",
       "      <td>N</td>\n",
       "      <td>18h00</td>\n",
       "      <td>White shark</td>\n",
       "      <td>R. Collier, GSAF</td>\n",
       "      <td>2018.06.25-Wolfe.pdf</td>\n",
       "      <td>http://sharkattackfile.net/spreadsheets/pdf_di...</td>\n",
       "      <td>http://sharkattackfile.net/spreadsheets/pdf_di...</td>\n",
       "      <td>6303</td>\n",
       "    </tr>\n",
       "    <tr>\n",
       "      <td>1</td>\n",
       "      <td>2018</td>\n",
       "      <td>Unprovoked</td>\n",
       "      <td>USA</td>\n",
       "      <td>Georgia</td>\n",
       "      <td>St. Simon Island, Glynn County</td>\n",
       "      <td>Standing</td>\n",
       "      <td>Adyson McNeely</td>\n",
       "      <td>F</td>\n",
       "      <td>11</td>\n",
       "      <td>Minor injury to left thigh</td>\n",
       "      <td>N</td>\n",
       "      <td>14h00  -15h00</td>\n",
       "      <td>desconocido</td>\n",
       "      <td>K.McMurray, TrackingSharks.com</td>\n",
       "      <td>2018.06.18-McNeely.pdf</td>\n",
       "      <td>http://sharkattackfile.net/spreadsheets/pdf_di...</td>\n",
       "      <td>http://sharkattackfile.net/spreadsheets/pdf_di...</td>\n",
       "      <td>6302</td>\n",
       "    </tr>\n",
       "    <tr>\n",
       "      <td>2</td>\n",
       "      <td>2018</td>\n",
       "      <td>Invalid</td>\n",
       "      <td>USA</td>\n",
       "      <td>Hawaii</td>\n",
       "      <td>Habush, Oahu</td>\n",
       "      <td>Surfing</td>\n",
       "      <td>John Denges</td>\n",
       "      <td>M</td>\n",
       "      <td>48</td>\n",
       "      <td>Injury to left lower leg from surfboard skeg</td>\n",
       "      <td>N</td>\n",
       "      <td>07h45</td>\n",
       "      <td>desconocido</td>\n",
       "      <td>K.McMurray, TrackingSharks.com</td>\n",
       "      <td>2018.06.09-Denges.pdf</td>\n",
       "      <td>http://sharkattackfile.net/spreadsheets/pdf_di...</td>\n",
       "      <td>http://sharkattackfile.net/spreadsheets/pdf_di...</td>\n",
       "      <td>6301</td>\n",
       "    </tr>\n",
       "    <tr>\n",
       "      <td>3</td>\n",
       "      <td>2018</td>\n",
       "      <td>Unprovoked</td>\n",
       "      <td>AUSTRALIA</td>\n",
       "      <td>New South Wales</td>\n",
       "      <td>Arrawarra Headland</td>\n",
       "      <td>Surfing</td>\n",
       "      <td>male</td>\n",
       "      <td>M</td>\n",
       "      <td>desconocido</td>\n",
       "      <td>Minor injury to lower leg</td>\n",
       "      <td>N</td>\n",
       "      <td>desconocido</td>\n",
       "      <td>2 m shark</td>\n",
       "      <td>B. Myatt, GSAF</td>\n",
       "      <td>2018.06.08-Arrawarra.pdf</td>\n",
       "      <td>http://sharkattackfile.net/spreadsheets/pdf_di...</td>\n",
       "      <td>http://sharkattackfile.net/spreadsheets/pdf_di...</td>\n",
       "      <td>6300</td>\n",
       "    </tr>\n",
       "    <tr>\n",
       "      <td>4</td>\n",
       "      <td>2018</td>\n",
       "      <td>Provoked</td>\n",
       "      <td>MEXICO</td>\n",
       "      <td>Colima</td>\n",
       "      <td>La Ticla</td>\n",
       "      <td>Free diving</td>\n",
       "      <td>Gustavo Ramos</td>\n",
       "      <td>M</td>\n",
       "      <td>desconocido</td>\n",
       "      <td>Lacerations to leg &amp; hand shark PROVOKED INCIDENT</td>\n",
       "      <td>N</td>\n",
       "      <td>desconocido</td>\n",
       "      <td>Tiger shark, 3m</td>\n",
       "      <td>A .Kipper</td>\n",
       "      <td>2018.06.04-Ramos.pdf</td>\n",
       "      <td>http://sharkattackfile.net/spreadsheets/pdf_di...</td>\n",
       "      <td>http://sharkattackfile.net/spreadsheets/pdf_di...</td>\n",
       "      <td>6299</td>\n",
       "    </tr>\n",
       "  </tbody>\n",
       "</table>\n",
       "</div>"
      ],
      "text/plain": [
       "   anio        type    country             area  \\\n",
       "0  2018     Boating        USA       California   \n",
       "1  2018  Unprovoked        USA          Georgia   \n",
       "2  2018     Invalid        USA           Hawaii   \n",
       "3  2018  Unprovoked  AUSTRALIA  New South Wales   \n",
       "4  2018    Provoked     MEXICO           Colima   \n",
       "\n",
       "                         location     activity             name sex  \\\n",
       "0     Oceanside, San Diego County     Paddling      Julie Wolfe   F   \n",
       "1  St. Simon Island, Glynn County     Standing  Adyson McNeely    F   \n",
       "2                    Habush, Oahu      Surfing      John Denges   M   \n",
       "3              Arrawarra Headland      Surfing             male   M   \n",
       "4                        La Ticla  Free diving   Gustavo Ramos    M   \n",
       "\n",
       "           age                                             injury fatal_Y_N  \\\n",
       "0           57  No injury to occupant, outrigger canoe and pad...         N   \n",
       "1           11                         Minor injury to left thigh         N   \n",
       "2           48       Injury to left lower leg from surfboard skeg         N   \n",
       "3  desconocido                          Minor injury to lower leg         N   \n",
       "4  desconocido  Lacerations to leg & hand shark PROVOKED INCIDENT         N   \n",
       "\n",
       "            time          species          investigator_or_source  \\\n",
       "0          18h00      White shark                R. Collier, GSAF   \n",
       "1  14h00  -15h00      desconocido  K.McMurray, TrackingSharks.com   \n",
       "2          07h45      desconocido  K.McMurray, TrackingSharks.com   \n",
       "3    desconocido        2 m shark                  B. Myatt, GSAF   \n",
       "4    desconocido  Tiger shark, 3m                       A .Kipper   \n",
       "\n",
       "                        pdf  \\\n",
       "0      2018.06.25-Wolfe.pdf   \n",
       "1    2018.06.18-McNeely.pdf   \n",
       "2     2018.06.09-Denges.pdf   \n",
       "3  2018.06.08-Arrawarra.pdf   \n",
       "4      2018.06.04-Ramos.pdf   \n",
       "\n",
       "                                        href_formula  \\\n",
       "0  http://sharkattackfile.net/spreadsheets/pdf_di...   \n",
       "1  http://sharkattackfile.net/spreadsheets/pdf_di...   \n",
       "2  http://sharkattackfile.net/spreadsheets/pdf_di...   \n",
       "3  http://sharkattackfile.net/spreadsheets/pdf_di...   \n",
       "4  http://sharkattackfile.net/spreadsheets/pdf_di...   \n",
       "\n",
       "                                                href original_order  \n",
       "0  http://sharkattackfile.net/spreadsheets/pdf_di...           6303  \n",
       "1  http://sharkattackfile.net/spreadsheets/pdf_di...           6302  \n",
       "2  http://sharkattackfile.net/spreadsheets/pdf_di...           6301  \n",
       "3  http://sharkattackfile.net/spreadsheets/pdf_di...           6300  \n",
       "4  http://sharkattackfile.net/spreadsheets/pdf_di...           6299  "
      ]
     },
     "execution_count": 197,
     "metadata": {},
     "output_type": "execute_result"
    }
   ],
   "source": []
  },
  {
   "cell_type": "code",
   "execution_count": null,
   "metadata": {},
   "outputs": [],
   "source": []
  }
 ],
 "metadata": {
  "kernelspec": {
   "display_name": "Python 3",
   "language": "python",
   "name": "python3"
  },
  "language_info": {
   "codemirror_mode": {
    "name": "ipython",
    "version": 3
   },
   "file_extension": ".py",
   "mimetype": "text/x-python",
   "name": "python",
   "nbconvert_exporter": "python",
   "pygments_lexer": "ipython3",
   "version": "3.7.4"
  }
 },
 "nbformat": 4,
 "nbformat_minor": 2
}
